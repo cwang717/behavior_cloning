{
 "cells": [
  {
   "cell_type": "code",
   "execution_count": 3,
   "metadata": {},
   "outputs": [],
   "source": [
    "import tensorflow as tf\n",
    "import keras\n",
    "import numpy as np\n",
    "import csv\n",
    "import cv2\n",
    "\n",
    "# physical_devices = tf.config.list_physical_devices('GPU')\n",
    "# tf.config.experimental.set_memory_growth(physical_devices[0], enable=True)\n",
    "\n",
    "from tensorflow.compat.v1 import ConfigProto\n",
    "from tensorflow.compat.v1 import InteractiveSession\n",
    "\n",
    "config = ConfigProto()\n",
    "config.gpu_options.allow_growth = True\n",
    "session = InteractiveSession(config=config)"
   ]
  },
  {
   "cell_type": "code",
   "execution_count": 4,
   "metadata": {},
   "outputs": [],
   "source": [
    "from os.path import exists\n",
    "\n",
    "raw = []\n",
    "camera_correction = 0.2 \n",
    "with open('data/driving_log.csv', 'r') as f:\n",
    "    csv_reader = csv.reader(f)\n",
    "    header = next(csv_reader)\n",
    "    for line in csv_reader:\n",
    "        steering = float(line[3])\n",
    "        path = 'data/' + line[0]\n",
    "        if exists(path):\n",
    "            raw.append(('data/' + line[0], steering))\n",
    "        path = 'data/' + line[1][1:]\n",
    "        if exists(path):\n",
    "            raw.append(('data/' + line[1][1:], steering-camera_correction))\n",
    "        path = 'data/' + line[2][1:]\n",
    "        if exists(path):\n",
    "            raw.append(('data/' + line[2][1:], steering+camera_correction))\n",
    "\n",
    "from sklearn.model_selection import train_test_split\n",
    "train_raw, validation_raw = train_test_split(raw, test_size=0.2)"
   ]
  },
  {
   "cell_type": "code",
   "execution_count": 5,
   "metadata": {},
   "outputs": [],
   "source": [
    "from sklearn.utils import shuffle\n",
    "\n",
    "def sample_generator(raw, batch_size=32):\n",
    "    N = len(raw)\n",
    "    while True:\n",
    "        raw = shuffle(raw)\n",
    "        for offset in range(0, N, batch_size):\n",
    "            batch = raw[offset:offset+batch_size]\n",
    "            imgs = []\n",
    "            steerings = []\n",
    "            for path, steering in batch:\n",
    "                img = cv2.imread(path)\n",
    "                imgs.append(img)\n",
    "                steerings.append(steering)\n",
    "                imgs.append(cv2.flip(img, 1))\n",
    "                steerings.append(-steering)\n",
    "            \n",
    "            yield np.array(imgs), np.array(steerings)\n",
    "\n",
    "train_sample_generator = sample_generator(train_raw, 32)\n",
    "validation_sample_generator = sample_generator(validation_raw, 32)"
   ]
  },
  {
   "cell_type": "code",
   "execution_count": 6,
   "metadata": {},
   "outputs": [],
   "source": [
    "from keras.models import Sequential, Model\n",
    "from keras.layers import Flatten, Dense, Lambda, Conv2D, Cropping2D\n",
    "from keras.layers.pooling import MaxPooling2D"
   ]
  },
  {
   "cell_type": "code",
   "execution_count": 11,
   "metadata": {},
   "outputs": [],
   "source": [
    "def myModel():\n",
    "    model = Sequential()\n",
    "\n",
    "    model = addPreProcess(model)\n",
    "\n",
    "    model.add(Conv2D(24,5, padding='same', strides=(2,2), activation='relu', name='2d1'))\n",
    "    model.add(Conv2D(36,5, padding='same', strides=(2,2), activation='relu', name='2d2'))\n",
    "    model.add(Conv2D(48,5, padding='same', strides=(2,2), activation='relu', name='2d3'))\n",
    "    model.add(Conv2D(64,3, padding='same', activation='relu', name='2d4'))\n",
    "    model.add(Conv2D(64,3, padding='same', activation='relu', name='2d5'))\n",
    "    model.add(Flatten())\n",
    "    model.add(Dense(100))\n",
    "    model.add(Dense(50))\n",
    "    model.add(Dense(10))\n",
    "    model.add(Dense(1))\n",
    "    \n",
    "    return model\n",
    "\n",
    "def addPreProcess(model):\n",
    "    model.add(Lambda(lambda x: (x-128)/255.0, input_shape=(160, 320, 3)))\n",
    "    model.add(Cropping2D(cropping=((50,20), (0,0))))\n",
    "    return model\n",
    "\n",
    "model = myModel()"
   ]
  },
  {
   "cell_type": "code",
   "execution_count": 13,
   "metadata": {},
   "outputs": [
    {
     "name": "stderr",
     "output_type": "stream",
     "text": [
      "<ipython-input-13-3282546cf85f>:3: UserWarning: `Model.fit_generator` is deprecated and will be removed in a future version. Please use `Model.fit`, which supports generators.\n",
      "  history_object = model.fit_generator(train_sample_generator, steps_per_epoch=np.ceil(len(train_raw)/16), validation_data=validation_sample_generator, \\\n"
     ]
    },
    {
     "name": "stdout",
     "output_type": "stream",
     "text": [
      "Epoch 1/5\n"
     ]
    },
    {
     "ename": "ResourceExhaustedError",
     "evalue": "Graph execution error:\n\nDetected at node 'sequential_2/2d1/Conv2D' defined at (most recent call last):\n    File \"/opt/miniconda3/envs/chaojie/lib/python3.9/runpy.py\", line 197, in _run_module_as_main\n      return _run_code(code, main_globals, None,\n    File \"/opt/miniconda3/envs/chaojie/lib/python3.9/runpy.py\", line 87, in _run_code\n      exec(code, run_globals)\n    File \"/opt/miniconda3/envs/chaojie/lib/python3.9/site-packages/ipykernel_launcher.py\", line 16, in <module>\n      app.launch_new_instance()\n    File \"/opt/miniconda3/envs/chaojie/lib/python3.9/site-packages/traitlets/config/application.py\", line 845, in launch_instance\n      app.start()\n    File \"/opt/miniconda3/envs/chaojie/lib/python3.9/site-packages/ipykernel/kernelapp.py\", line 612, in start\n      self.io_loop.start()\n    File \"/opt/miniconda3/envs/chaojie/lib/python3.9/site-packages/tornado/platform/asyncio.py\", line 199, in start\n      self.asyncio_loop.run_forever()\n    File \"/opt/miniconda3/envs/chaojie/lib/python3.9/asyncio/base_events.py\", line 596, in run_forever\n      self._run_once()\n    File \"/opt/miniconda3/envs/chaojie/lib/python3.9/asyncio/base_events.py\", line 1890, in _run_once\n      handle._run()\n    File \"/opt/miniconda3/envs/chaojie/lib/python3.9/asyncio/events.py\", line 80, in _run\n      self._context.run(self._callback, *self._args)\n    File \"/opt/miniconda3/envs/chaojie/lib/python3.9/site-packages/tornado/ioloop.py\", line 688, in <lambda>\n      lambda f: self._run_callback(functools.partial(callback, future))\n    File \"/opt/miniconda3/envs/chaojie/lib/python3.9/site-packages/tornado/ioloop.py\", line 741, in _run_callback\n      ret = callback()\n    File \"/opt/miniconda3/envs/chaojie/lib/python3.9/site-packages/tornado/gen.py\", line 814, in inner\n      self.ctx_run(self.run)\n    File \"/opt/miniconda3/envs/chaojie/lib/python3.9/site-packages/tornado/gen.py\", line 775, in run\n      yielded = self.gen.send(value)\n    File \"/opt/miniconda3/envs/chaojie/lib/python3.9/site-packages/ipykernel/kernelbase.py\", line 365, in process_one\n      yield gen.maybe_future(dispatch(*args))\n    File \"/opt/miniconda3/envs/chaojie/lib/python3.9/site-packages/tornado/gen.py\", line 234, in wrapper\n      yielded = ctx_run(next, result)\n    File \"/opt/miniconda3/envs/chaojie/lib/python3.9/site-packages/ipykernel/kernelbase.py\", line 268, in dispatch_shell\n      yield gen.maybe_future(handler(stream, idents, msg))\n    File \"/opt/miniconda3/envs/chaojie/lib/python3.9/site-packages/tornado/gen.py\", line 234, in wrapper\n      yielded = ctx_run(next, result)\n    File \"/opt/miniconda3/envs/chaojie/lib/python3.9/site-packages/ipykernel/kernelbase.py\", line 543, in execute_request\n      self.do_execute(\n    File \"/opt/miniconda3/envs/chaojie/lib/python3.9/site-packages/tornado/gen.py\", line 234, in wrapper\n      yielded = ctx_run(next, result)\n    File \"/opt/miniconda3/envs/chaojie/lib/python3.9/site-packages/ipykernel/ipkernel.py\", line 306, in do_execute\n      res = shell.run_cell(code, store_history=store_history, silent=silent)\n    File \"/opt/miniconda3/envs/chaojie/lib/python3.9/site-packages/ipykernel/zmqshell.py\", line 536, in run_cell\n      return super(ZMQInteractiveShell, self).run_cell(*args, **kwargs)\n    File \"/opt/miniconda3/envs/chaojie/lib/python3.9/site-packages/IPython/core/interactiveshell.py\", line 2894, in run_cell\n      result = self._run_cell(\n    File \"/opt/miniconda3/envs/chaojie/lib/python3.9/site-packages/IPython/core/interactiveshell.py\", line 2940, in _run_cell\n      return runner(coro)\n    File \"/opt/miniconda3/envs/chaojie/lib/python3.9/site-packages/IPython/core/async_helpers.py\", line 68, in _pseudo_sync_runner\n      coro.send(None)\n    File \"/opt/miniconda3/envs/chaojie/lib/python3.9/site-packages/IPython/core/interactiveshell.py\", line 3165, in run_cell_async\n      has_raised = await self.run_ast_nodes(code_ast.body, cell_name,\n    File \"/opt/miniconda3/envs/chaojie/lib/python3.9/site-packages/IPython/core/interactiveshell.py\", line 3357, in run_ast_nodes\n      if (await self.run_code(code, result,  async_=asy)):\n    File \"/opt/miniconda3/envs/chaojie/lib/python3.9/site-packages/IPython/core/interactiveshell.py\", line 3437, in run_code\n      exec(code_obj, self.user_global_ns, self.user_ns)\n    File \"<ipython-input-13-3282546cf85f>\", line 3, in <module>\n      history_object = model.fit_generator(train_sample_generator, steps_per_epoch=np.ceil(len(train_raw)/16), validation_data=validation_sample_generator, \\\n    File \"/opt/miniconda3/envs/chaojie/lib/python3.9/site-packages/keras/engine/training.py\", line 2209, in fit_generator\n      return self.fit(\n    File \"/opt/miniconda3/envs/chaojie/lib/python3.9/site-packages/keras/utils/traceback_utils.py\", line 64, in error_handler\n      return fn(*args, **kwargs)\n    File \"/opt/miniconda3/envs/chaojie/lib/python3.9/site-packages/keras/engine/training.py\", line 1384, in fit\n      tmp_logs = self.train_function(iterator)\n    File \"/opt/miniconda3/envs/chaojie/lib/python3.9/site-packages/keras/engine/training.py\", line 1021, in train_function\n      return step_function(self, iterator)\n    File \"/opt/miniconda3/envs/chaojie/lib/python3.9/site-packages/keras/engine/training.py\", line 1010, in step_function\n      outputs = model.distribute_strategy.run(run_step, args=(data,))\n    File \"/opt/miniconda3/envs/chaojie/lib/python3.9/site-packages/keras/engine/training.py\", line 1000, in run_step\n      outputs = model.train_step(data)\n    File \"/opt/miniconda3/envs/chaojie/lib/python3.9/site-packages/keras/engine/training.py\", line 859, in train_step\n      y_pred = self(x, training=True)\n    File \"/opt/miniconda3/envs/chaojie/lib/python3.9/site-packages/keras/utils/traceback_utils.py\", line 64, in error_handler\n      return fn(*args, **kwargs)\n    File \"/opt/miniconda3/envs/chaojie/lib/python3.9/site-packages/keras/engine/base_layer.py\", line 1096, in __call__\n      outputs = call_fn(inputs, *args, **kwargs)\n    File \"/opt/miniconda3/envs/chaojie/lib/python3.9/site-packages/keras/utils/traceback_utils.py\", line 92, in error_handler\n      return fn(*args, **kwargs)\n    File \"/opt/miniconda3/envs/chaojie/lib/python3.9/site-packages/keras/engine/sequential.py\", line 374, in call\n      return super(Sequential, self).call(inputs, training=training, mask=mask)\n    File \"/opt/miniconda3/envs/chaojie/lib/python3.9/site-packages/keras/engine/functional.py\", line 451, in call\n      return self._run_internal_graph(\n    File \"/opt/miniconda3/envs/chaojie/lib/python3.9/site-packages/keras/engine/functional.py\", line 589, in _run_internal_graph\n      outputs = node.layer(*args, **kwargs)\n    File \"/opt/miniconda3/envs/chaojie/lib/python3.9/site-packages/keras/utils/traceback_utils.py\", line 64, in error_handler\n      return fn(*args, **kwargs)\n    File \"/opt/miniconda3/envs/chaojie/lib/python3.9/site-packages/keras/engine/base_layer.py\", line 1096, in __call__\n      outputs = call_fn(inputs, *args, **kwargs)\n    File \"/opt/miniconda3/envs/chaojie/lib/python3.9/site-packages/keras/utils/traceback_utils.py\", line 92, in error_handler\n      return fn(*args, **kwargs)\n    File \"/opt/miniconda3/envs/chaojie/lib/python3.9/site-packages/keras/layers/convolutional.py\", line 248, in call\n      outputs = self.convolution_op(inputs, self.kernel)\n    File \"/opt/miniconda3/envs/chaojie/lib/python3.9/site-packages/keras/layers/convolutional.py\", line 233, in convolution_op\n      return tf.nn.convolution(\nNode: 'sequential_2/2d1/Conv2D'\nOOM when allocating tensor with shape[64,3,91,321] and type float on /job:localhost/replica:0/task:0/device:GPU:0 by allocator GPU_0_bfc\n\t [[{{node sequential_2/2d1/Conv2D}}]]\nHint: If you want to see a list of allocated tensors when OOM happens, add report_tensor_allocations_upon_oom to RunOptions for current allocation info. This isn't available when running in Eager mode.\n [Op:__inference_train_function_4577]",
     "output_type": "error",
     "traceback": [
      "\u001b[0;31m---------------------------------------------------------------------------\u001b[0m",
      "\u001b[0;31mResourceExhaustedError\u001b[0m                    Traceback (most recent call last)",
      "\u001b[0;32m<ipython-input-13-3282546cf85f>\u001b[0m in \u001b[0;36m<module>\u001b[0;34m\u001b[0m\n\u001b[1;32m      1\u001b[0m \u001b[0mmodel\u001b[0m\u001b[0;34m.\u001b[0m\u001b[0mcompile\u001b[0m\u001b[0;34m(\u001b[0m\u001b[0mloss\u001b[0m\u001b[0;34m=\u001b[0m\u001b[0;34m'mse'\u001b[0m\u001b[0;34m,\u001b[0m \u001b[0moptimizer\u001b[0m\u001b[0;34m=\u001b[0m\u001b[0;34m'adam'\u001b[0m\u001b[0;34m)\u001b[0m\u001b[0;34m\u001b[0m\u001b[0;34m\u001b[0m\u001b[0m\n\u001b[1;32m      2\u001b[0m \u001b[0;34m\u001b[0m\u001b[0m\n\u001b[0;32m----> 3\u001b[0;31m history_object = model.fit_generator(train_sample_generator, steps_per_epoch=np.ceil(len(train_raw)/16), validation_data=validation_sample_generator, \\\n\u001b[0m\u001b[1;32m      4\u001b[0m                  epochs=5, verbose=1)\n\u001b[1;32m      5\u001b[0m \u001b[0;34m\u001b[0m\u001b[0m\n",
      "\u001b[0;32m/opt/miniconda3/envs/chaojie/lib/python3.9/site-packages/keras/engine/training.py\u001b[0m in \u001b[0;36mfit_generator\u001b[0;34m(self, generator, steps_per_epoch, epochs, verbose, callbacks, validation_data, validation_steps, validation_freq, class_weight, max_queue_size, workers, use_multiprocessing, shuffle, initial_epoch)\u001b[0m\n\u001b[1;32m   2207\u001b[0m         \u001b[0;34m'Please use `Model.fit`, which supports generators.'\u001b[0m\u001b[0;34m,\u001b[0m\u001b[0;34m\u001b[0m\u001b[0;34m\u001b[0m\u001b[0m\n\u001b[1;32m   2208\u001b[0m         stacklevel=2)\n\u001b[0;32m-> 2209\u001b[0;31m     return self.fit(\n\u001b[0m\u001b[1;32m   2210\u001b[0m         \u001b[0mgenerator\u001b[0m\u001b[0;34m,\u001b[0m\u001b[0;34m\u001b[0m\u001b[0;34m\u001b[0m\u001b[0m\n\u001b[1;32m   2211\u001b[0m         \u001b[0msteps_per_epoch\u001b[0m\u001b[0;34m=\u001b[0m\u001b[0msteps_per_epoch\u001b[0m\u001b[0;34m,\u001b[0m\u001b[0;34m\u001b[0m\u001b[0;34m\u001b[0m\u001b[0m\n",
      "\u001b[0;32m/opt/miniconda3/envs/chaojie/lib/python3.9/site-packages/keras/utils/traceback_utils.py\u001b[0m in \u001b[0;36merror_handler\u001b[0;34m(*args, **kwargs)\u001b[0m\n\u001b[1;32m     65\u001b[0m     \u001b[0;32mexcept\u001b[0m \u001b[0mException\u001b[0m \u001b[0;32mas\u001b[0m \u001b[0me\u001b[0m\u001b[0;34m:\u001b[0m  \u001b[0;31m# pylint: disable=broad-except\u001b[0m\u001b[0;34m\u001b[0m\u001b[0;34m\u001b[0m\u001b[0m\n\u001b[1;32m     66\u001b[0m       \u001b[0mfiltered_tb\u001b[0m \u001b[0;34m=\u001b[0m \u001b[0m_process_traceback_frames\u001b[0m\u001b[0;34m(\u001b[0m\u001b[0me\u001b[0m\u001b[0;34m.\u001b[0m\u001b[0m__traceback__\u001b[0m\u001b[0;34m)\u001b[0m\u001b[0;34m\u001b[0m\u001b[0;34m\u001b[0m\u001b[0m\n\u001b[0;32m---> 67\u001b[0;31m       \u001b[0;32mraise\u001b[0m \u001b[0me\u001b[0m\u001b[0;34m.\u001b[0m\u001b[0mwith_traceback\u001b[0m\u001b[0;34m(\u001b[0m\u001b[0mfiltered_tb\u001b[0m\u001b[0;34m)\u001b[0m \u001b[0;32mfrom\u001b[0m \u001b[0;32mNone\u001b[0m\u001b[0;34m\u001b[0m\u001b[0;34m\u001b[0m\u001b[0m\n\u001b[0m\u001b[1;32m     68\u001b[0m     \u001b[0;32mfinally\u001b[0m\u001b[0;34m:\u001b[0m\u001b[0;34m\u001b[0m\u001b[0;34m\u001b[0m\u001b[0m\n\u001b[1;32m     69\u001b[0m       \u001b[0;32mdel\u001b[0m \u001b[0mfiltered_tb\u001b[0m\u001b[0;34m\u001b[0m\u001b[0;34m\u001b[0m\u001b[0m\n",
      "\u001b[0;32m/opt/miniconda3/envs/chaojie/lib/python3.9/site-packages/tensorflow/python/eager/execute.py\u001b[0m in \u001b[0;36mquick_execute\u001b[0;34m(op_name, num_outputs, inputs, attrs, ctx, name)\u001b[0m\n\u001b[1;32m     52\u001b[0m   \u001b[0;32mtry\u001b[0m\u001b[0;34m:\u001b[0m\u001b[0;34m\u001b[0m\u001b[0;34m\u001b[0m\u001b[0m\n\u001b[1;32m     53\u001b[0m     \u001b[0mctx\u001b[0m\u001b[0;34m.\u001b[0m\u001b[0mensure_initialized\u001b[0m\u001b[0;34m(\u001b[0m\u001b[0;34m)\u001b[0m\u001b[0;34m\u001b[0m\u001b[0;34m\u001b[0m\u001b[0m\n\u001b[0;32m---> 54\u001b[0;31m     tensors = pywrap_tfe.TFE_Py_Execute(ctx._handle, device_name, op_name,\n\u001b[0m\u001b[1;32m     55\u001b[0m                                         inputs, attrs, num_outputs)\n\u001b[1;32m     56\u001b[0m   \u001b[0;32mexcept\u001b[0m \u001b[0mcore\u001b[0m\u001b[0;34m.\u001b[0m\u001b[0m_NotOkStatusException\u001b[0m \u001b[0;32mas\u001b[0m \u001b[0me\u001b[0m\u001b[0;34m:\u001b[0m\u001b[0;34m\u001b[0m\u001b[0;34m\u001b[0m\u001b[0m\n",
      "\u001b[0;31mResourceExhaustedError\u001b[0m: Graph execution error:\n\nDetected at node 'sequential_2/2d1/Conv2D' defined at (most recent call last):\n    File \"/opt/miniconda3/envs/chaojie/lib/python3.9/runpy.py\", line 197, in _run_module_as_main\n      return _run_code(code, main_globals, None,\n    File \"/opt/miniconda3/envs/chaojie/lib/python3.9/runpy.py\", line 87, in _run_code\n      exec(code, run_globals)\n    File \"/opt/miniconda3/envs/chaojie/lib/python3.9/site-packages/ipykernel_launcher.py\", line 16, in <module>\n      app.launch_new_instance()\n    File \"/opt/miniconda3/envs/chaojie/lib/python3.9/site-packages/traitlets/config/application.py\", line 845, in launch_instance\n      app.start()\n    File \"/opt/miniconda3/envs/chaojie/lib/python3.9/site-packages/ipykernel/kernelapp.py\", line 612, in start\n      self.io_loop.start()\n    File \"/opt/miniconda3/envs/chaojie/lib/python3.9/site-packages/tornado/platform/asyncio.py\", line 199, in start\n      self.asyncio_loop.run_forever()\n    File \"/opt/miniconda3/envs/chaojie/lib/python3.9/asyncio/base_events.py\", line 596, in run_forever\n      self._run_once()\n    File \"/opt/miniconda3/envs/chaojie/lib/python3.9/asyncio/base_events.py\", line 1890, in _run_once\n      handle._run()\n    File \"/opt/miniconda3/envs/chaojie/lib/python3.9/asyncio/events.py\", line 80, in _run\n      self._context.run(self._callback, *self._args)\n    File \"/opt/miniconda3/envs/chaojie/lib/python3.9/site-packages/tornado/ioloop.py\", line 688, in <lambda>\n      lambda f: self._run_callback(functools.partial(callback, future))\n    File \"/opt/miniconda3/envs/chaojie/lib/python3.9/site-packages/tornado/ioloop.py\", line 741, in _run_callback\n      ret = callback()\n    File \"/opt/miniconda3/envs/chaojie/lib/python3.9/site-packages/tornado/gen.py\", line 814, in inner\n      self.ctx_run(self.run)\n    File \"/opt/miniconda3/envs/chaojie/lib/python3.9/site-packages/tornado/gen.py\", line 775, in run\n      yielded = self.gen.send(value)\n    File \"/opt/miniconda3/envs/chaojie/lib/python3.9/site-packages/ipykernel/kernelbase.py\", line 365, in process_one\n      yield gen.maybe_future(dispatch(*args))\n    File \"/opt/miniconda3/envs/chaojie/lib/python3.9/site-packages/tornado/gen.py\", line 234, in wrapper\n      yielded = ctx_run(next, result)\n    File \"/opt/miniconda3/envs/chaojie/lib/python3.9/site-packages/ipykernel/kernelbase.py\", line 268, in dispatch_shell\n      yield gen.maybe_future(handler(stream, idents, msg))\n    File \"/opt/miniconda3/envs/chaojie/lib/python3.9/site-packages/tornado/gen.py\", line 234, in wrapper\n      yielded = ctx_run(next, result)\n    File \"/opt/miniconda3/envs/chaojie/lib/python3.9/site-packages/ipykernel/kernelbase.py\", line 543, in execute_request\n      self.do_execute(\n    File \"/opt/miniconda3/envs/chaojie/lib/python3.9/site-packages/tornado/gen.py\", line 234, in wrapper\n      yielded = ctx_run(next, result)\n    File \"/opt/miniconda3/envs/chaojie/lib/python3.9/site-packages/ipykernel/ipkernel.py\", line 306, in do_execute\n      res = shell.run_cell(code, store_history=store_history, silent=silent)\n    File \"/opt/miniconda3/envs/chaojie/lib/python3.9/site-packages/ipykernel/zmqshell.py\", line 536, in run_cell\n      return super(ZMQInteractiveShell, self).run_cell(*args, **kwargs)\n    File \"/opt/miniconda3/envs/chaojie/lib/python3.9/site-packages/IPython/core/interactiveshell.py\", line 2894, in run_cell\n      result = self._run_cell(\n    File \"/opt/miniconda3/envs/chaojie/lib/python3.9/site-packages/IPython/core/interactiveshell.py\", line 2940, in _run_cell\n      return runner(coro)\n    File \"/opt/miniconda3/envs/chaojie/lib/python3.9/site-packages/IPython/core/async_helpers.py\", line 68, in _pseudo_sync_runner\n      coro.send(None)\n    File \"/opt/miniconda3/envs/chaojie/lib/python3.9/site-packages/IPython/core/interactiveshell.py\", line 3165, in run_cell_async\n      has_raised = await self.run_ast_nodes(code_ast.body, cell_name,\n    File \"/opt/miniconda3/envs/chaojie/lib/python3.9/site-packages/IPython/core/interactiveshell.py\", line 3357, in run_ast_nodes\n      if (await self.run_code(code, result,  async_=asy)):\n    File \"/opt/miniconda3/envs/chaojie/lib/python3.9/site-packages/IPython/core/interactiveshell.py\", line 3437, in run_code\n      exec(code_obj, self.user_global_ns, self.user_ns)\n    File \"<ipython-input-13-3282546cf85f>\", line 3, in <module>\n      history_object = model.fit_generator(train_sample_generator, steps_per_epoch=np.ceil(len(train_raw)/16), validation_data=validation_sample_generator, \\\n    File \"/opt/miniconda3/envs/chaojie/lib/python3.9/site-packages/keras/engine/training.py\", line 2209, in fit_generator\n      return self.fit(\n    File \"/opt/miniconda3/envs/chaojie/lib/python3.9/site-packages/keras/utils/traceback_utils.py\", line 64, in error_handler\n      return fn(*args, **kwargs)\n    File \"/opt/miniconda3/envs/chaojie/lib/python3.9/site-packages/keras/engine/training.py\", line 1384, in fit\n      tmp_logs = self.train_function(iterator)\n    File \"/opt/miniconda3/envs/chaojie/lib/python3.9/site-packages/keras/engine/training.py\", line 1021, in train_function\n      return step_function(self, iterator)\n    File \"/opt/miniconda3/envs/chaojie/lib/python3.9/site-packages/keras/engine/training.py\", line 1010, in step_function\n      outputs = model.distribute_strategy.run(run_step, args=(data,))\n    File \"/opt/miniconda3/envs/chaojie/lib/python3.9/site-packages/keras/engine/training.py\", line 1000, in run_step\n      outputs = model.train_step(data)\n    File \"/opt/miniconda3/envs/chaojie/lib/python3.9/site-packages/keras/engine/training.py\", line 859, in train_step\n      y_pred = self(x, training=True)\n    File \"/opt/miniconda3/envs/chaojie/lib/python3.9/site-packages/keras/utils/traceback_utils.py\", line 64, in error_handler\n      return fn(*args, **kwargs)\n    File \"/opt/miniconda3/envs/chaojie/lib/python3.9/site-packages/keras/engine/base_layer.py\", line 1096, in __call__\n      outputs = call_fn(inputs, *args, **kwargs)\n    File \"/opt/miniconda3/envs/chaojie/lib/python3.9/site-packages/keras/utils/traceback_utils.py\", line 92, in error_handler\n      return fn(*args, **kwargs)\n    File \"/opt/miniconda3/envs/chaojie/lib/python3.9/site-packages/keras/engine/sequential.py\", line 374, in call\n      return super(Sequential, self).call(inputs, training=training, mask=mask)\n    File \"/opt/miniconda3/envs/chaojie/lib/python3.9/site-packages/keras/engine/functional.py\", line 451, in call\n      return self._run_internal_graph(\n    File \"/opt/miniconda3/envs/chaojie/lib/python3.9/site-packages/keras/engine/functional.py\", line 589, in _run_internal_graph\n      outputs = node.layer(*args, **kwargs)\n    File \"/opt/miniconda3/envs/chaojie/lib/python3.9/site-packages/keras/utils/traceback_utils.py\", line 64, in error_handler\n      return fn(*args, **kwargs)\n    File \"/opt/miniconda3/envs/chaojie/lib/python3.9/site-packages/keras/engine/base_layer.py\", line 1096, in __call__\n      outputs = call_fn(inputs, *args, **kwargs)\n    File \"/opt/miniconda3/envs/chaojie/lib/python3.9/site-packages/keras/utils/traceback_utils.py\", line 92, in error_handler\n      return fn(*args, **kwargs)\n    File \"/opt/miniconda3/envs/chaojie/lib/python3.9/site-packages/keras/layers/convolutional.py\", line 248, in call\n      outputs = self.convolution_op(inputs, self.kernel)\n    File \"/opt/miniconda3/envs/chaojie/lib/python3.9/site-packages/keras/layers/convolutional.py\", line 233, in convolution_op\n      return tf.nn.convolution(\nNode: 'sequential_2/2d1/Conv2D'\nOOM when allocating tensor with shape[64,3,91,321] and type float on /job:localhost/replica:0/task:0/device:GPU:0 by allocator GPU_0_bfc\n\t [[{{node sequential_2/2d1/Conv2D}}]]\nHint: If you want to see a list of allocated tensors when OOM happens, add report_tensor_allocations_upon_oom to RunOptions for current allocation info. This isn't available when running in Eager mode.\n [Op:__inference_train_function_4577]"
     ]
    }
   ],
   "source": [
    "model.compile(loss='mse', optimizer='adam')\n",
    "\n",
    "history_object = model.fit_generator(train_sample_generator, steps_per_epoch=np.ceil(len(train_raw)/16), validation_data=validation_sample_generator, \\\n",
    "                 epochs=5, verbose=1)\n",
    "\n",
    "model.save('model.h5')\n",
    "print(history_object.history.keys())\n",
    "print('Loss')\n",
    "print(history_object.history['loss'])\n",
    "print('Validation Loss')\n",
    "print(history_object.history['val_loss'])"
   ]
  },
  {
   "cell_type": "code",
   "execution_count": null,
   "metadata": {},
   "outputs": [],
   "source": []
  }
 ],
 "metadata": {
  "interpreter": {
   "hash": "7b00d0aff25ee417f6f37cd956ee31999fd0cef4334c125bb076ee6222a3f8af"
  },
  "kernelspec": {
   "display_name": "Python 3.9.5 ('chaojie')",
   "language": "python",
   "name": "python3"
  },
  "language_info": {
   "codemirror_mode": {
    "name": "ipython",
    "version": 3
   },
   "file_extension": ".py",
   "mimetype": "text/x-python",
   "name": "python",
   "nbconvert_exporter": "python",
   "pygments_lexer": "ipython3",
   "version": "3.9.5"
  },
  "orig_nbformat": 4
 },
 "nbformat": 4,
 "nbformat_minor": 2
}
